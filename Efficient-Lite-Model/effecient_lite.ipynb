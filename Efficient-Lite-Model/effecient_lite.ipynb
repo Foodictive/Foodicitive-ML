{
  "nbformat": 4,
  "nbformat_minor": 0,
  "metadata": {
    "colab": {
      "name": "effecient lite.ipynb",
      "provenance": [],
      "collapsed_sections": []
    },
    "kernelspec": {
      "name": "python3",
      "display_name": "Python 3"
    },
    "language_info": {
      "name": "python"
    },
    "accelerator": "GPU"
  },
  "cells": [
    {
      "cell_type": "code",
      "execution_count": null,
      "metadata": {
        "id": "plYZys7-JcQe",
        "colab": {
          "base_uri": "https://localhost:8080/",
          "height": 1000
        },
        "outputId": "36e1726a-7119-4b2b-9fb4-93109568d30c"
      },
      "outputs": [
        {
          "output_type": "stream",
          "name": "stdout",
          "text": [
            "Reading package lists... Done\n",
            "Building dependency tree       \n",
            "Reading state information... Done\n",
            "The following package was automatically installed and is no longer required:\n",
            "  libnvidia-common-460\n",
            "Use 'sudo apt autoremove' to remove it.\n",
            "The following NEW packages will be installed:\n",
            "  libportaudio2\n",
            "0 upgraded, 1 newly installed, 0 to remove and 45 not upgraded.\n",
            "Need to get 64.6 kB of archives.\n",
            "After this operation, 215 kB of additional disk space will be used.\n",
            "Get:1 http://archive.ubuntu.com/ubuntu bionic/universe amd64 libportaudio2 amd64 19.6.0-1 [64.6 kB]\n",
            "Fetched 64.6 kB in 1s (106 kB/s)\n",
            "debconf: unable to initialize frontend: Dialog\n",
            "debconf: (No usable dialog-like program is installed, so the dialog based frontend cannot be used. at /usr/share/perl5/Debconf/FrontEnd/Dialog.pm line 76, <> line 1.)\n",
            "debconf: falling back to frontend: Readline\n",
            "debconf: unable to initialize frontend: Readline\n",
            "debconf: (This frontend requires a controlling tty.)\n",
            "debconf: falling back to frontend: Teletype\n",
            "dpkg-preconfigure: unable to re-open stdin: \n",
            "Selecting previously unselected package libportaudio2:amd64.\n",
            "(Reading database ... 155632 files and directories currently installed.)\n",
            "Preparing to unpack .../libportaudio2_19.6.0-1_amd64.deb ...\n",
            "Unpacking libportaudio2:amd64 (19.6.0-1) ...\n",
            "Setting up libportaudio2:amd64 (19.6.0-1) ...\n",
            "Processing triggers for libc-bin (2.27-3ubuntu1.3) ...\n",
            "/sbin/ldconfig.real: /usr/local/lib/python3.7/dist-packages/ideep4py/lib/libmkldnn.so.0 is not a symbolic link\n",
            "\n",
            "Looking in indexes: https://pypi.org/simple, https://us-python.pkg.dev/colab-wheels/public/simple/\n",
            "Collecting sounddevice\n",
            "  Downloading sounddevice-0.4.4-py3-none-any.whl (31 kB)\n",
            "Requirement already satisfied: CFFI>=1.0 in /usr/local/lib/python3.7/dist-packages (from sounddevice) (1.15.0)\n",
            "Requirement already satisfied: pycparser in /usr/local/lib/python3.7/dist-packages (from CFFI>=1.0->sounddevice) (2.21)\n",
            "Installing collected packages: sounddevice\n",
            "Successfully installed sounddevice-0.4.4\n",
            "Looking in indexes: https://pypi.org/simple, https://us-python.pkg.dev/colab-wheels/public/simple/\n",
            "Collecting tflite-model-maker\n",
            "  Downloading tflite_model_maker-0.4.0-py3-none-any.whl (642 kB)\n",
            "\u001b[K     |████████████████████████████████| 642 kB 10.3 MB/s \n",
            "\u001b[?25hCollecting tflite-support>=0.4.0\n",
            "  Downloading tflite_support-0.4.1-cp37-cp37m-manylinux2014_x86_64.whl (42.5 MB)\n",
            "\u001b[K     |████████████████████████████████| 42.5 MB 1.2 MB/s \n",
            "\u001b[?25hCollecting PyYAML>=5.1\n",
            "  Downloading PyYAML-6.0-cp37-cp37m-manylinux_2_5_x86_64.manylinux1_x86_64.manylinux_2_12_x86_64.manylinux2010_x86_64.whl (596 kB)\n",
            "\u001b[K     |████████████████████████████████| 596 kB 49.2 MB/s \n",
            "\u001b[?25hCollecting sentencepiece>=0.1.91\n",
            "  Downloading sentencepiece-0.1.96-cp37-cp37m-manylinux_2_17_x86_64.manylinux2014_x86_64.whl (1.2 MB)\n",
            "\u001b[K     |████████████████████████████████| 1.2 MB 51.5 MB/s \n",
            "\u001b[?25hCollecting neural-structured-learning>=1.3.1\n",
            "  Downloading neural_structured_learning-1.3.1-py2.py3-none-any.whl (120 kB)\n",
            "\u001b[K     |████████████████████████████████| 120 kB 50.5 MB/s \n",
            "\u001b[?25hCollecting scann>=1.2.6\n",
            "  Downloading scann-1.2.6-cp37-cp37m-manylinux2014_x86_64.whl (10.9 MB)\n",
            "\u001b[K     |████████████████████████████████| 10.9 MB 56.3 MB/s \n",
            "\u001b[?25hCollecting numba==0.53\n",
            "  Downloading numba-0.53.0-cp37-cp37m-manylinux2014_x86_64.whl (3.4 MB)\n",
            "\u001b[K     |████████████████████████████████| 3.4 MB 33.4 MB/s \n",
            "\u001b[?25hRequirement already satisfied: tensorflow>=2.6.0 in /usr/local/lib/python3.7/dist-packages (from tflite-model-maker) (2.8.2+zzzcolab20220527125636)\n",
            "Requirement already satisfied: six>=1.12.0 in /usr/local/lib/python3.7/dist-packages (from tflite-model-maker) (1.15.0)\n",
            "Requirement already satisfied: urllib3!=1.25.0,!=1.25.1,<1.26,>=1.21.1 in /usr/local/lib/python3.7/dist-packages (from tflite-model-maker) (1.24.3)\n",
            "Requirement already satisfied: librosa==0.8.1 in /usr/local/lib/python3.7/dist-packages (from tflite-model-maker) (0.8.1)\n",
            "Requirement already satisfied: pillow>=7.0.0 in /usr/local/lib/python3.7/dist-packages (from tflite-model-maker) (7.1.2)\n",
            "Requirement already satisfied: numpy>=1.17.3 in /usr/local/lib/python3.7/dist-packages (from tflite-model-maker) (1.21.6)\n",
            "Collecting tf-models-official==2.3.0\n",
            "  Downloading tf_models_official-2.3.0-py2.py3-none-any.whl (840 kB)\n",
            "\u001b[K     |████████████████████████████████| 840 kB 54.9 MB/s \n",
            "\u001b[?25hCollecting flatbuffers==1.12\n",
            "  Downloading flatbuffers-1.12-py2.py3-none-any.whl (15 kB)\n",
            "Collecting tensorflowjs>=2.4.0\n",
            "  Downloading tensorflowjs-3.18.0-py3-none-any.whl (77 kB)\n",
            "\u001b[K     |████████████████████████████████| 77 kB 7.5 MB/s \n",
            "\u001b[?25hRequirement already satisfied: Cython>=0.29.13 in /usr/local/lib/python3.7/dist-packages (from tflite-model-maker) (0.29.30)\n",
            "Collecting fire>=0.3.1\n",
            "  Downloading fire-0.4.0.tar.gz (87 kB)\n",
            "\u001b[K     |████████████████████████████████| 87 kB 7.9 MB/s \n",
            "\u001b[?25hCollecting lxml>=4.6.1\n",
            "  Downloading lxml-4.9.0-cp37-cp37m-manylinux_2_17_x86_64.manylinux2014_x86_64.manylinux_2_24_x86_64.whl (6.4 MB)\n",
            "\u001b[K     |████████████████████████████████| 6.4 MB 53.3 MB/s \n",
            "\u001b[?25hCollecting tensorflow-model-optimization>=0.5\n",
            "  Downloading tensorflow_model_optimization-0.7.2-py2.py3-none-any.whl (237 kB)\n",
            "\u001b[K     |████████████████████████████████| 237 kB 67.7 MB/s \n",
            "\u001b[?25hRequirement already satisfied: tensorflow-hub<0.13,>=0.7.0 in /usr/local/lib/python3.7/dist-packages (from tflite-model-maker) (0.12.0)\n",
            "Requirement already satisfied: tensorflow-datasets>=2.1.0 in /usr/local/lib/python3.7/dist-packages (from tflite-model-maker) (4.0.1)\n",
            "Requirement already satisfied: matplotlib<3.5.0,>=3.0.3 in /usr/local/lib/python3.7/dist-packages (from tflite-model-maker) (3.2.2)\n",
            "Requirement already satisfied: absl-py>=0.10.0 in /usr/local/lib/python3.7/dist-packages (from tflite-model-maker) (1.0.0)\n",
            "Collecting tensorflow-addons>=0.11.2\n",
            "  Downloading tensorflow_addons-0.17.0-cp37-cp37m-manylinux_2_17_x86_64.manylinux2014_x86_64.whl (1.1 MB)\n",
            "\u001b[K     |████████████████████████████████| 1.1 MB 48.2 MB/s \n",
            "\u001b[?25hRequirement already satisfied: audioread>=2.0.0 in /usr/local/lib/python3.7/dist-packages (from librosa==0.8.1->tflite-model-maker) (2.1.9)\n",
            "Requirement already satisfied: resampy>=0.2.2 in /usr/local/lib/python3.7/dist-packages (from librosa==0.8.1->tflite-model-maker) (0.2.2)\n",
            "Requirement already satisfied: joblib>=0.14 in /usr/local/lib/python3.7/dist-packages (from librosa==0.8.1->tflite-model-maker) (1.1.0)\n",
            "Requirement already satisfied: decorator>=3.0.0 in /usr/local/lib/python3.7/dist-packages (from librosa==0.8.1->tflite-model-maker) (4.4.2)\n",
            "Requirement already satisfied: soundfile>=0.10.2 in /usr/local/lib/python3.7/dist-packages (from librosa==0.8.1->tflite-model-maker) (0.10.3.post1)\n",
            "Requirement already satisfied: packaging>=20.0 in /usr/local/lib/python3.7/dist-packages (from librosa==0.8.1->tflite-model-maker) (21.3)\n",
            "Requirement already satisfied: pooch>=1.0 in /usr/local/lib/python3.7/dist-packages (from librosa==0.8.1->tflite-model-maker) (1.6.0)\n",
            "Requirement already satisfied: scipy>=1.0.0 in /usr/local/lib/python3.7/dist-packages (from librosa==0.8.1->tflite-model-maker) (1.4.1)\n",
            "Requirement already satisfied: scikit-learn!=0.19.0,>=0.14.0 in /usr/local/lib/python3.7/dist-packages (from librosa==0.8.1->tflite-model-maker) (1.0.2)\n",
            "Requirement already satisfied: setuptools in /usr/local/lib/python3.7/dist-packages (from numba==0.53->tflite-model-maker) (57.4.0)\n",
            "Collecting llvmlite<0.37,>=0.36.0rc1\n",
            "  Downloading llvmlite-0.36.0-cp37-cp37m-manylinux2010_x86_64.whl (25.3 MB)\n",
            "\u001b[K     |████████████████████████████████| 25.3 MB 1.3 MB/s \n",
            "\u001b[?25hCollecting dataclasses\n",
            "  Downloading dataclasses-0.6-py3-none-any.whl (14 kB)\n",
            "Requirement already satisfied: gin-config in /usr/local/lib/python3.7/dist-packages (from tf-models-official==2.3.0->tflite-model-maker) (0.5.0)\n",
            "Collecting tf-slim>=1.1.0\n",
            "  Downloading tf_slim-1.1.0-py2.py3-none-any.whl (352 kB)\n",
            "\u001b[K     |████████████████████████████████| 352 kB 72.3 MB/s \n",
            "\u001b[?25hRequirement already satisfied: kaggle>=1.3.9 in /usr/local/lib/python3.7/dist-packages (from tf-models-official==2.3.0->tflite-model-maker) (1.5.12)\n",
            "Collecting py-cpuinfo>=3.3.0\n",
            "  Downloading py-cpuinfo-8.0.0.tar.gz (99 kB)\n",
            "\u001b[K     |████████████████████████████████| 99 kB 12.8 MB/s \n",
            "\u001b[?25hCollecting opencv-python-headless\n",
            "  Downloading opencv_python_headless-4.5.5.64-cp36-abi3-manylinux_2_17_x86_64.manylinux2014_x86_64.whl (47.8 MB)\n",
            "\u001b[K     |████████████████████████████████| 47.8 MB 50 kB/s \n",
            "\u001b[?25hRequirement already satisfied: google-api-python-client>=1.6.7 in /usr/local/lib/python3.7/dist-packages (from tf-models-official==2.3.0->tflite-model-maker) (1.12.11)\n",
            "Requirement already satisfied: google-cloud-bigquery>=0.31.0 in /usr/local/lib/python3.7/dist-packages (from tf-models-official==2.3.0->tflite-model-maker) (1.21.0)\n",
            "Requirement already satisfied: psutil>=5.4.3 in /usr/local/lib/python3.7/dist-packages (from tf-models-official==2.3.0->tflite-model-maker) (5.4.8)\n",
            "Requirement already satisfied: pandas>=0.22.0 in /usr/local/lib/python3.7/dist-packages (from tf-models-official==2.3.0->tflite-model-maker) (1.3.5)\n",
            "Requirement already satisfied: termcolor in /usr/local/lib/python3.7/dist-packages (from fire>=0.3.1->tflite-model-maker) (1.1.0)\n",
            "Requirement already satisfied: google-auth-httplib2>=0.0.3 in /usr/local/lib/python3.7/dist-packages (from google-api-python-client>=1.6.7->tf-models-official==2.3.0->tflite-model-maker) (0.0.4)\n",
            "Requirement already satisfied: google-api-core<3dev,>=1.21.0 in /usr/local/lib/python3.7/dist-packages (from google-api-python-client>=1.6.7->tf-models-official==2.3.0->tflite-model-maker) (1.31.6)\n",
            "Requirement already satisfied: httplib2<1dev,>=0.15.0 in /usr/local/lib/python3.7/dist-packages (from google-api-python-client>=1.6.7->tf-models-official==2.3.0->tflite-model-maker) (0.17.4)\n",
            "Requirement already satisfied: uritemplate<4dev,>=3.0.0 in /usr/local/lib/python3.7/dist-packages (from google-api-python-client>=1.6.7->tf-models-official==2.3.0->tflite-model-maker) (3.0.1)\n",
            "Requirement already satisfied: google-auth<3dev,>=1.16.0 in /usr/local/lib/python3.7/dist-packages (from google-api-python-client>=1.6.7->tf-models-official==2.3.0->tflite-model-maker) (1.35.0)\n",
            "Requirement already satisfied: pytz in /usr/local/lib/python3.7/dist-packages (from google-api-core<3dev,>=1.21.0->google-api-python-client>=1.6.7->tf-models-official==2.3.0->tflite-model-maker) (2022.1)\n",
            "Requirement already satisfied: protobuf<4.0.0dev,>=3.12.0 in /usr/local/lib/python3.7/dist-packages (from google-api-core<3dev,>=1.21.0->google-api-python-client>=1.6.7->tf-models-official==2.3.0->tflite-model-maker) (3.17.3)\n",
            "Requirement already satisfied: googleapis-common-protos<2.0dev,>=1.6.0 in /usr/local/lib/python3.7/dist-packages (from google-api-core<3dev,>=1.21.0->google-api-python-client>=1.6.7->tf-models-official==2.3.0->tflite-model-maker) (1.56.2)\n",
            "Requirement already satisfied: requests<3.0.0dev,>=2.18.0 in /usr/local/lib/python3.7/dist-packages (from google-api-core<3dev,>=1.21.0->google-api-python-client>=1.6.7->tf-models-official==2.3.0->tflite-model-maker) (2.23.0)\n",
            "Requirement already satisfied: rsa<5,>=3.1.4 in /usr/local/lib/python3.7/dist-packages (from google-auth<3dev,>=1.16.0->google-api-python-client>=1.6.7->tf-models-official==2.3.0->tflite-model-maker) (4.8)\n",
            "Requirement already satisfied: cachetools<5.0,>=2.0.0 in /usr/local/lib/python3.7/dist-packages (from google-auth<3dev,>=1.16.0->google-api-python-client>=1.6.7->tf-models-official==2.3.0->tflite-model-maker) (4.2.4)\n",
            "Requirement already satisfied: pyasn1-modules>=0.2.1 in /usr/local/lib/python3.7/dist-packages (from google-auth<3dev,>=1.16.0->google-api-python-client>=1.6.7->tf-models-official==2.3.0->tflite-model-maker) (0.2.8)\n",
            "Requirement already satisfied: google-resumable-media!=0.4.0,<0.5.0dev,>=0.3.1 in /usr/local/lib/python3.7/dist-packages (from google-cloud-bigquery>=0.31.0->tf-models-official==2.3.0->tflite-model-maker) (0.4.1)\n",
            "Requirement already satisfied: google-cloud-core<2.0dev,>=1.0.3 in /usr/local/lib/python3.7/dist-packages (from google-cloud-bigquery>=0.31.0->tf-models-official==2.3.0->tflite-model-maker) (1.0.3)\n",
            "Requirement already satisfied: certifi in /usr/local/lib/python3.7/dist-packages (from kaggle>=1.3.9->tf-models-official==2.3.0->tflite-model-maker) (2022.5.18.1)\n",
            "Requirement already satisfied: tqdm in /usr/local/lib/python3.7/dist-packages (from kaggle>=1.3.9->tf-models-official==2.3.0->tflite-model-maker) (4.64.0)\n",
            "Requirement already satisfied: python-slugify in /usr/local/lib/python3.7/dist-packages (from kaggle>=1.3.9->tf-models-official==2.3.0->tflite-model-maker) (6.1.2)\n",
            "Requirement already satisfied: python-dateutil in /usr/local/lib/python3.7/dist-packages (from kaggle>=1.3.9->tf-models-official==2.3.0->tflite-model-maker) (2.8.2)\n",
            "Requirement already satisfied: pyparsing!=2.0.4,!=2.1.2,!=2.1.6,>=2.0.1 in /usr/local/lib/python3.7/dist-packages (from matplotlib<3.5.0,>=3.0.3->tflite-model-maker) (3.0.9)\n",
            "Requirement already satisfied: kiwisolver>=1.0.1 in /usr/local/lib/python3.7/dist-packages (from matplotlib<3.5.0,>=3.0.3->tflite-model-maker) (1.4.2)\n",
            "Requirement already satisfied: cycler>=0.10 in /usr/local/lib/python3.7/dist-packages (from matplotlib<3.5.0,>=3.0.3->tflite-model-maker) (0.11.0)\n",
            "Requirement already satisfied: typing-extensions in /usr/local/lib/python3.7/dist-packages (from kiwisolver>=1.0.1->matplotlib<3.5.0,>=3.0.3->tflite-model-maker) (4.2.0)\n",
            "Requirement already satisfied: attrs in /usr/local/lib/python3.7/dist-packages (from neural-structured-learning>=1.3.1->tflite-model-maker) (21.4.0)\n",
            "Requirement already satisfied: appdirs>=1.3.0 in /usr/local/lib/python3.7/dist-packages (from pooch>=1.0->librosa==0.8.1->tflite-model-maker) (1.4.4)\n",
            "Requirement already satisfied: pyasn1<0.5.0,>=0.4.6 in /usr/local/lib/python3.7/dist-packages (from pyasn1-modules>=0.2.1->google-auth<3dev,>=1.16.0->google-api-python-client>=1.6.7->tf-models-official==2.3.0->tflite-model-maker) (0.4.8)\n",
            "Requirement already satisfied: chardet<4,>=3.0.2 in /usr/local/lib/python3.7/dist-packages (from requests<3.0.0dev,>=2.18.0->google-api-core<3dev,>=1.21.0->google-api-python-client>=1.6.7->tf-models-official==2.3.0->tflite-model-maker) (3.0.4)\n",
            "Requirement already satisfied: idna<3,>=2.5 in /usr/local/lib/python3.7/dist-packages (from requests<3.0.0dev,>=2.18.0->google-api-core<3dev,>=1.21.0->google-api-python-client>=1.6.7->tf-models-official==2.3.0->tflite-model-maker) (2.10)\n",
            "Requirement already satisfied: threadpoolctl>=2.0.0 in /usr/local/lib/python3.7/dist-packages (from scikit-learn!=0.19.0,>=0.14.0->librosa==0.8.1->tflite-model-maker) (3.1.0)\n",
            "Requirement already satisfied: cffi>=1.0 in /usr/local/lib/python3.7/dist-packages (from soundfile>=0.10.2->librosa==0.8.1->tflite-model-maker) (1.15.0)\n",
            "Requirement already satisfied: pycparser in /usr/local/lib/python3.7/dist-packages (from cffi>=1.0->soundfile>=0.10.2->librosa==0.8.1->tflite-model-maker) (2.21)\n",
            "Requirement already satisfied: h5py>=2.9.0 in /usr/local/lib/python3.7/dist-packages (from tensorflow>=2.6.0->tflite-model-maker) (3.1.0)\n",
            "Requirement already satisfied: keras<2.9,>=2.8.0rc0 in /usr/local/lib/python3.7/dist-packages (from tensorflow>=2.6.0->tflite-model-maker) (2.8.0)\n",
            "Requirement already satisfied: tensorboard<2.9,>=2.8 in /usr/local/lib/python3.7/dist-packages (from tensorflow>=2.6.0->tflite-model-maker) (2.8.0)\n",
            "Requirement already satisfied: libclang>=9.0.1 in /usr/local/lib/python3.7/dist-packages (from tensorflow>=2.6.0->tflite-model-maker) (14.0.1)\n",
            "Requirement already satisfied: keras-preprocessing>=1.1.1 in /usr/local/lib/python3.7/dist-packages (from tensorflow>=2.6.0->tflite-model-maker) (1.1.2)\n",
            "Requirement already satisfied: opt-einsum>=2.3.2 in /usr/local/lib/python3.7/dist-packages (from tensorflow>=2.6.0->tflite-model-maker) (3.3.0)\n",
            "Requirement already satisfied: wrapt>=1.11.0 in /usr/local/lib/python3.7/dist-packages (from tensorflow>=2.6.0->tflite-model-maker) (1.14.1)\n",
            "Requirement already satisfied: gast>=0.2.1 in /usr/local/lib/python3.7/dist-packages (from tensorflow>=2.6.0->tflite-model-maker) (0.5.3)\n",
            "Requirement already satisfied: google-pasta>=0.1.1 in /usr/local/lib/python3.7/dist-packages (from tensorflow>=2.6.0->tflite-model-maker) (0.2.0)\n",
            "Requirement already satisfied: tensorflow-estimator<2.9,>=2.8 in /usr/local/lib/python3.7/dist-packages (from tensorflow>=2.6.0->tflite-model-maker) (2.8.0)\n",
            "Requirement already satisfied: grpcio<2.0,>=1.24.3 in /usr/local/lib/python3.7/dist-packages (from tensorflow>=2.6.0->tflite-model-maker) (1.46.3)\n",
            "Requirement already satisfied: astunparse>=1.6.0 in /usr/local/lib/python3.7/dist-packages (from tensorflow>=2.6.0->tflite-model-maker) (1.6.3)\n",
            "Requirement already satisfied: tensorflow-io-gcs-filesystem>=0.23.1 in /usr/local/lib/python3.7/dist-packages (from tensorflow>=2.6.0->tflite-model-maker) (0.26.0)\n",
            "Requirement already satisfied: wheel<1.0,>=0.23.0 in /usr/local/lib/python3.7/dist-packages (from astunparse>=1.6.0->tensorflow>=2.6.0->tflite-model-maker) (0.37.1)\n",
            "Requirement already satisfied: cached-property in /usr/local/lib/python3.7/dist-packages (from h5py>=2.9.0->tensorflow>=2.6.0->tflite-model-maker) (1.5.2)\n",
            "Requirement already satisfied: google-auth-oauthlib<0.5,>=0.4.1 in /usr/local/lib/python3.7/dist-packages (from tensorboard<2.9,>=2.8->tensorflow>=2.6.0->tflite-model-maker) (0.4.6)\n",
            "Requirement already satisfied: tensorboard-data-server<0.7.0,>=0.6.0 in /usr/local/lib/python3.7/dist-packages (from tensorboard<2.9,>=2.8->tensorflow>=2.6.0->tflite-model-maker) (0.6.1)\n",
            "Requirement already satisfied: tensorboard-plugin-wit>=1.6.0 in /usr/local/lib/python3.7/dist-packages (from tensorboard<2.9,>=2.8->tensorflow>=2.6.0->tflite-model-maker) (1.8.1)\n",
            "Requirement already satisfied: werkzeug>=0.11.15 in /usr/local/lib/python3.7/dist-packages (from tensorboard<2.9,>=2.8->tensorflow>=2.6.0->tflite-model-maker) (1.0.1)\n",
            "Requirement already satisfied: markdown>=2.6.8 in /usr/local/lib/python3.7/dist-packages (from tensorboard<2.9,>=2.8->tensorflow>=2.6.0->tflite-model-maker) (3.3.7)\n",
            "Requirement already satisfied: requests-oauthlib>=0.7.0 in /usr/local/lib/python3.7/dist-packages (from google-auth-oauthlib<0.5,>=0.4.1->tensorboard<2.9,>=2.8->tensorflow>=2.6.0->tflite-model-maker) (1.3.1)\n",
            "Requirement already satisfied: importlib-metadata>=4.4 in /usr/local/lib/python3.7/dist-packages (from markdown>=2.6.8->tensorboard<2.9,>=2.8->tensorflow>=2.6.0->tflite-model-maker) (4.11.4)\n",
            "Requirement already satisfied: zipp>=0.5 in /usr/local/lib/python3.7/dist-packages (from importlib-metadata>=4.4->markdown>=2.6.8->tensorboard<2.9,>=2.8->tensorflow>=2.6.0->tflite-model-maker) (3.8.0)\n",
            "Requirement already satisfied: oauthlib>=3.0.0 in /usr/local/lib/python3.7/dist-packages (from requests-oauthlib>=0.7.0->google-auth-oauthlib<0.5,>=0.4.1->tensorboard<2.9,>=2.8->tensorflow>=2.6.0->tflite-model-maker) (3.2.0)\n",
            "Requirement already satisfied: typeguard>=2.7 in /usr/local/lib/python3.7/dist-packages (from tensorflow-addons>=0.11.2->tflite-model-maker) (2.7.1)\n",
            "Requirement already satisfied: dill in /usr/local/lib/python3.7/dist-packages (from tensorflow-datasets>=2.1.0->tflite-model-maker) (0.3.5.1)\n",
            "Requirement already satisfied: future in /usr/local/lib/python3.7/dist-packages (from tensorflow-datasets>=2.1.0->tflite-model-maker) (0.16.0)\n",
            "Requirement already satisfied: promise in /usr/local/lib/python3.7/dist-packages (from tensorflow-datasets>=2.1.0->tflite-model-maker) (2.3)\n",
            "Requirement already satisfied: importlib-resources in /usr/local/lib/python3.7/dist-packages (from tensorflow-datasets>=2.1.0->tflite-model-maker) (5.7.1)\n",
            "Requirement already satisfied: tensorflow-metadata in /usr/local/lib/python3.7/dist-packages (from tensorflow-datasets>=2.1.0->tflite-model-maker) (1.8.0)\n",
            "Requirement already satisfied: dm-tree in /usr/local/lib/python3.7/dist-packages (from tensorflow-datasets>=2.1.0->tflite-model-maker) (0.1.7)\n",
            "Collecting packaging>=20.0\n",
            "  Downloading packaging-20.9-py2.py3-none-any.whl (40 kB)\n",
            "\u001b[K     |████████████████████████████████| 40 kB 6.8 MB/s \n",
            "\u001b[?25hRequirement already satisfied: sounddevice>=0.4.4 in /usr/local/lib/python3.7/dist-packages (from tflite-support>=0.4.0->tflite-model-maker) (0.4.4)\n",
            "Collecting pybind11>=2.6.0\n",
            "  Downloading pybind11-2.9.2-py2.py3-none-any.whl (213 kB)\n",
            "\u001b[K     |████████████████████████████████| 213 kB 69.1 MB/s \n",
            "\u001b[?25hCollecting protobuf<4.0.0dev,>=3.12.0\n",
            "  Downloading protobuf-3.19.4-cp37-cp37m-manylinux_2_17_x86_64.manylinux2014_x86_64.whl (1.1 MB)\n",
            "\u001b[K     |████████████████████████████████| 1.1 MB 50.4 MB/s \n",
            "\u001b[?25hRequirement already satisfied: text-unidecode>=1.3 in /usr/local/lib/python3.7/dist-packages (from python-slugify->kaggle>=1.3.9->tf-models-official==2.3.0->tflite-model-maker) (1.3)\n",
            "Building wheels for collected packages: fire, py-cpuinfo\n",
            "  Building wheel for fire (setup.py) ... \u001b[?25l\u001b[?25hdone\n",
            "  Created wheel for fire: filename=fire-0.4.0-py2.py3-none-any.whl size=115942 sha256=0e73db079aae0202066d18f8f55999348479816f171024ae098760eea4351e1c\n",
            "  Stored in directory: /root/.cache/pip/wheels/8a/67/fb/2e8a12fa16661b9d5af1f654bd199366799740a85c64981226\n",
            "  Building wheel for py-cpuinfo (setup.py) ... \u001b[?25l\u001b[?25hdone\n",
            "  Created wheel for py-cpuinfo: filename=py_cpuinfo-8.0.0-py3-none-any.whl size=22257 sha256=552a78acc45e88f58e83f9def06cad6b085083c2a43c6d4db74d789480f13c87\n",
            "  Stored in directory: /root/.cache/pip/wheels/d2/f1/1f/041add21dc9c4220157f1bd2bd6afe1f1a49524c3396b94401\n",
            "Successfully built fire py-cpuinfo\n",
            "Installing collected packages: protobuf, packaging, llvmlite, numba, flatbuffers, tf-slim, tensorflow-model-optimization, tensorflow-addons, sentencepiece, PyYAML, pybind11, py-cpuinfo, opencv-python-headless, dataclasses, tflite-support, tf-models-official, tensorflowjs, scann, neural-structured-learning, lxml, fire, tflite-model-maker\n",
            "  Attempting uninstall: protobuf\n",
            "    Found existing installation: protobuf 3.17.3\n",
            "    Uninstalling protobuf-3.17.3:\n",
            "      Successfully uninstalled protobuf-3.17.3\n",
            "  Attempting uninstall: packaging\n",
            "    Found existing installation: packaging 21.3\n",
            "    Uninstalling packaging-21.3:\n",
            "      Successfully uninstalled packaging-21.3\n",
            "  Attempting uninstall: llvmlite\n",
            "    Found existing installation: llvmlite 0.34.0\n",
            "    Uninstalling llvmlite-0.34.0:\n",
            "      Successfully uninstalled llvmlite-0.34.0\n",
            "  Attempting uninstall: numba\n",
            "    Found existing installation: numba 0.51.2\n",
            "    Uninstalling numba-0.51.2:\n",
            "      Successfully uninstalled numba-0.51.2\n",
            "  Attempting uninstall: flatbuffers\n",
            "    Found existing installation: flatbuffers 2.0\n",
            "    Uninstalling flatbuffers-2.0:\n",
            "      Successfully uninstalled flatbuffers-2.0\n",
            "  Attempting uninstall: PyYAML\n",
            "    Found existing installation: PyYAML 3.13\n",
            "    Uninstalling PyYAML-3.13:\n",
            "      Successfully uninstalled PyYAML-3.13\n",
            "  Attempting uninstall: lxml\n",
            "    Found existing installation: lxml 4.2.6\n",
            "    Uninstalling lxml-4.2.6:\n",
            "      Successfully uninstalled lxml-4.2.6\n",
            "\u001b[31mERROR: pip's dependency resolver does not currently take into account all the packages that are installed. This behaviour is the source of the following dependency conflicts.\n",
            "datascience 0.10.6 requires folium==0.2.1, but you have folium 0.8.3 which is incompatible.\u001b[0m\n",
            "Successfully installed PyYAML-6.0 dataclasses-0.6 fire-0.4.0 flatbuffers-1.12 llvmlite-0.36.0 lxml-4.9.0 neural-structured-learning-1.3.1 numba-0.53.0 opencv-python-headless-4.5.5.64 packaging-20.9 protobuf-3.19.4 py-cpuinfo-8.0.0 pybind11-2.9.2 scann-1.2.6 sentencepiece-0.1.96 tensorflow-addons-0.17.0 tensorflow-model-optimization-0.7.2 tensorflowjs-3.18.0 tf-models-official-2.3.0 tf-slim-1.1.0 tflite-model-maker-0.4.0 tflite-support-0.4.1\n"
          ]
        },
        {
          "output_type": "display_data",
          "data": {
            "application/vnd.colab-display-data+json": {
              "pip_warning": {
                "packages": [
                  "google"
                ]
              }
            }
          },
          "metadata": {}
        },
        {
          "output_type": "stream",
          "name": "stdout",
          "text": [
            "Looking in indexes: https://pypi.org/simple, https://us-python.pkg.dev/colab-wheels/public/simple/\n",
            "Collecting seedir\n",
            "  Downloading seedir-0.3.0-py3-none-any.whl (112 kB)\n",
            "\u001b[K     |████████████████████████████████| 112 kB 6.6 MB/s \n",
            "\u001b[?25hCollecting emoji\n",
            "  Downloading emoji-1.7.0.tar.gz (175 kB)\n",
            "\u001b[K     |████████████████████████████████| 175 kB 40.1 MB/s \n",
            "\u001b[?25hRequirement already satisfied: natsort in /usr/local/lib/python3.7/dist-packages (from seedir) (5.5.0)\n",
            "Building wheels for collected packages: emoji\n",
            "  Building wheel for emoji (setup.py) ... \u001b[?25l\u001b[?25hdone\n",
            "  Created wheel for emoji: filename=emoji-1.7.0-py3-none-any.whl size=171046 sha256=9351911a24d1dfa978f898a34337d45abd6b55812399d93643ac21df7ac04383\n",
            "  Stored in directory: /root/.cache/pip/wheels/8a/4e/b6/57b01db010d17ef6ea9b40300af725ef3e210cb1acfb7ac8b6\n",
            "Successfully built emoji\n",
            "Installing collected packages: emoji, seedir\n",
            "Successfully installed emoji-1.7.0 seedir-0.3.0\n"
          ]
        }
      ],
      "source": [
        "!sudo apt-get install libportaudio2\n",
        "!pip install sounddevice\n",
        "!pip install tflite-model-maker\n",
        "!pip install seedir"
      ]
    },
    {
      "cell_type": "code",
      "source": [
        "from tflite_model_maker import model_spec\n",
        "from tflite_model_maker import image_classifier\n",
        "from tflite_model_maker.config import ExportFormat\n",
        "from tflite_model_maker.config import QuantizationConfig\n",
        "from tflite_model_maker.image_classifier import DataLoader\n",
        "import sounddevice as sd\n",
        "import seedir as sed\n",
        "import numpy as np\n",
        "import pandas as pd\n",
        "from pathlib import Path\n",
        "import os\n",
        "from google.colab import drive\n",
        "import tensorflow as tf\n",
        "from tensorflow.keras import layers\n",
        "\n",
        "drive.mount('/content/drive/')"
      ],
      "metadata": {
        "id": "TLflBQVeJ06J",
        "colab": {
          "base_uri": "https://localhost:8080/"
        },
        "outputId": "99050b21-022e-4ce9-d6d6-0375764f170f"
      },
      "execution_count": null,
      "outputs": [
        {
          "output_type": "stream",
          "name": "stdout",
          "text": [
            "Mounted at /content/drive/\n"
          ]
        }
      ]
    },
    {
      "cell_type": "code",
      "source": [
        "image_path = '/content/drive/My Drive/'\n",
        "image_path = os.path.join(os.path.dirname(image_path), 'eks2/')"
      ],
      "metadata": {
        "id": "CxK-rDntdg-r"
      },
      "execution_count": null,
      "outputs": []
    },
    {
      "cell_type": "code",
      "source": [
        "data = DataLoader.from_folder(image_path)\n",
        "train_data, test_data = data.split(0.8)\n",
        "#test_data, val_data = rest_data.split(0.5)"
      ],
      "metadata": {
        "colab": {
          "base_uri": "https://localhost:8080/"
        },
        "id": "2ozC7YSN0bhg",
        "outputId": "a57eca0f-820f-4f83-b251-5ef59f6123c6"
      },
      "execution_count": null,
      "outputs": [
        {
          "output_type": "stream",
          "name": "stdout",
          "text": [
            "INFO:tensorflow:Load image with size: 3908, num_label: 10, labels: ayam bakar, bakso, bandeng presto, gado gado, gudeg, lumpia semarang, nasi pindang, rendang, sate, telur_asin.\n"
          ]
        },
        {
          "output_type": "stream",
          "name": "stderr",
          "text": [
            "INFO:tensorflow:Load image with size: 3908, num_label: 10, labels: ayam bakar, bakso, bandeng presto, gado gado, gudeg, lumpia semarang, nasi pindang, rendang, sate, telur_asin.\n"
          ]
        }
      ]
    },
    {
      "cell_type": "code",
      "source": [
        "efficientnet_lite0=image_classifier.EfficientNetLite0Spec(\n",
        "    uri='https://tfhub.dev/tensorflow/efficientnet/lite0/feature-vector/2'\n",
        ")"
      ],
      "metadata": {
        "id": "mO5PJ8nRd7d_"
      },
      "execution_count": null,
      "outputs": []
    },
    {
      "cell_type": "code",
      "source": [
        "from tensorflow.keras import layers\n",
        "\n",
        "data_augment = tf.keras.Sequential([\n",
        "  layers.Rescaling(1./255),\n",
        "  layers.RandomFlip(\"horizontal_and_vertical\"),\n",
        "  layers.RandomRotation(0.2),\n",
        "  layers.RandomContrast(0.2),\n",
        "  layers.RandomZoom(0.4)\n",
        "])"
      ],
      "metadata": {
        "id": "FXB6n5qHx7vb"
      },
      "execution_count": null,
      "outputs": []
    },
    {
      "cell_type": "code",
      "source": [
        "#model0 = image_classifier.create(train_data, model_spec=inception_v3_spec, validation_data=val_data)\n",
        "model1 = image_classifier.create(train_data, model_spec=efficientnet_lite0, \n",
        "                                 validation_data=test_data,batch_size=32,\n",
        "                                 epochs=15,dropout_rate=0.7,\n",
        "                                 learning_rate=0.001,train_whole_model=True)\n",
        "\n",
        "    "
      ],
      "metadata": {
        "colab": {
          "base_uri": "https://localhost:8080/"
        },
        "id": "qpG81otp3WQ_",
        "outputId": "a8671cb5-91ab-415e-e56c-5d296f0a53bf"
      },
      "execution_count": null,
      "outputs": [
        {
          "output_type": "stream",
          "name": "stdout",
          "text": [
            "INFO:tensorflow:Retraining the models...\n"
          ]
        },
        {
          "output_type": "stream",
          "name": "stderr",
          "text": [
            "INFO:tensorflow:Retraining the models...\n"
          ]
        },
        {
          "output_type": "stream",
          "name": "stdout",
          "text": [
            "Model: \"sequential_2\"\n",
            "_________________________________________________________________\n",
            " Layer (type)                Output Shape              Param #   \n",
            "=================================================================\n",
            " hub_keras_layer_v1v2_1 (Hub  (None, 1280)             3413024   \n",
            " KerasLayerV1V2)                                                 \n",
            "                                                                 \n",
            " dropout_1 (Dropout)         (None, 1280)              0         \n",
            "                                                                 \n",
            " dense_1 (Dense)             (None, 10)                12810     \n",
            "                                                                 \n",
            "=================================================================\n",
            "Total params: 3,425,834\n",
            "Trainable params: 3,425,834\n",
            "Non-trainable params: 0\n",
            "_________________________________________________________________\n",
            "None\n",
            "Epoch 1/15\n"
          ]
        },
        {
          "output_type": "stream",
          "name": "stderr",
          "text": [
            "/usr/local/lib/python3.7/dist-packages/keras/optimizer_v2/gradient_descent.py:102: UserWarning: The `lr` argument is deprecated, use `learning_rate` instead.\n",
            "  super(SGD, self).__init__(name, **kwargs)\n"
          ]
        },
        {
          "output_type": "stream",
          "name": "stdout",
          "text": [
            "WARNING:tensorflow:Gradients do not exist for variables ['efficientnet-lite0/stem/tpu_batch_normalization/moving_mean:0', 'efficientnet-lite0/stem/tpu_batch_normalization/moving_variance:0', 'efficientnet-lite0/blocks_0/tpu_batch_normalization/moving_mean:0', 'efficientnet-lite0/blocks_0/tpu_batch_normalization/moving_variance:0', 'efficientnet-lite0/blocks_0/tpu_batch_normalization_1/moving_mean:0', 'efficientnet-lite0/blocks_0/tpu_batch_normalization_1/moving_variance:0', 'efficientnet-lite0/blocks_1/tpu_batch_normalization/moving_mean:0', 'efficientnet-lite0/blocks_1/tpu_batch_normalization/moving_variance:0', 'efficientnet-lite0/blocks_1/tpu_batch_normalization_1/moving_mean:0', 'efficientnet-lite0/blocks_1/tpu_batch_normalization_1/moving_variance:0', 'efficientnet-lite0/blocks_1/tpu_batch_normalization_2/moving_mean:0', 'efficientnet-lite0/blocks_1/tpu_batch_normalization_2/moving_variance:0', 'efficientnet-lite0/blocks_2/tpu_batch_normalization/moving_mean:0', 'efficientnet-lite0/blocks_2/tpu_batch_normalization/moving_variance:0', 'efficientnet-lite0/blocks_2/tpu_batch_normalization_1/moving_mean:0', 'efficientnet-lite0/blocks_2/tpu_batch_normalization_1/moving_variance:0', 'efficientnet-lite0/blocks_2/tpu_batch_normalization_2/moving_mean:0', 'efficientnet-lite0/blocks_2/tpu_batch_normalization_2/moving_variance:0', 'efficientnet-lite0/blocks_3/tpu_batch_normalization/moving_mean:0', 'efficientnet-lite0/blocks_3/tpu_batch_normalization/moving_variance:0', 'efficientnet-lite0/blocks_3/tpu_batch_normalization_1/moving_mean:0', 'efficientnet-lite0/blocks_3/tpu_batch_normalization_1/moving_variance:0', 'efficientnet-lite0/blocks_3/tpu_batch_normalization_2/moving_mean:0', 'efficientnet-lite0/blocks_3/tpu_batch_normalization_2/moving_variance:0', 'efficientnet-lite0/blocks_4/tpu_batch_normalization/moving_mean:0', 'efficientnet-lite0/blocks_4/tpu_batch_normalization/moving_variance:0', 'efficientnet-lite0/blocks_4/tpu_batch_normalization_1/moving_mean:0', 'efficientnet-lite0/blocks_4/tpu_batch_normalization_1/moving_variance:0', 'efficientnet-lite0/blocks_4/tpu_batch_normalization_2/moving_mean:0', 'efficientnet-lite0/blocks_4/tpu_batch_normalization_2/moving_variance:0', 'efficientnet-lite0/blocks_5/tpu_batch_normalization/moving_mean:0', 'efficientnet-lite0/blocks_5/tpu_batch_normalization/moving_variance:0', 'efficientnet-lite0/blocks_5/tpu_batch_normalization_1/moving_mean:0', 'efficientnet-lite0/blocks_5/tpu_batch_normalization_1/moving_variance:0', 'efficientnet-lite0/blocks_5/tpu_batch_normalization_2/moving_mean:0', 'efficientnet-lite0/blocks_5/tpu_batch_normalization_2/moving_variance:0', 'efficientnet-lite0/blocks_6/tpu_batch_normalization/moving_mean:0', 'efficientnet-lite0/blocks_6/tpu_batch_normalization/moving_variance:0', 'efficientnet-lite0/blocks_6/tpu_batch_normalization_1/moving_mean:0', 'efficientnet-lite0/blocks_6/tpu_batch_normalization_1/moving_variance:0', 'efficientnet-lite0/blocks_6/tpu_batch_normalization_2/moving_mean:0', 'efficientnet-lite0/blocks_6/tpu_batch_normalization_2/moving_variance:0', 'efficientnet-lite0/blocks_7/tpu_batch_normalization/moving_mean:0', 'efficientnet-lite0/blocks_7/tpu_batch_normalization/moving_variance:0', 'efficientnet-lite0/blocks_7/tpu_batch_normalization_1/moving_mean:0', 'efficientnet-lite0/blocks_7/tpu_batch_normalization_1/moving_variance:0', 'efficientnet-lite0/blocks_7/tpu_batch_normalization_2/moving_mean:0', 'efficientnet-lite0/blocks_7/tpu_batch_normalization_2/moving_variance:0', 'efficientnet-lite0/blocks_8/tpu_batch_normalization/moving_mean:0', 'efficientnet-lite0/blocks_8/tpu_batch_normalization/moving_variance:0', 'efficientnet-lite0/blocks_8/tpu_batch_normalization_1/moving_mean:0', 'efficientnet-lite0/blocks_8/tpu_batch_normalization_1/moving_variance:0', 'efficientnet-lite0/blocks_8/tpu_batch_normalization_2/moving_mean:0', 'efficientnet-lite0/blocks_8/tpu_batch_normalization_2/moving_variance:0', 'efficientnet-lite0/blocks_9/tpu_batch_normalization/moving_mean:0', 'efficientnet-lite0/blocks_9/tpu_batch_normalization/moving_variance:0', 'efficientnet-lite0/blocks_9/tpu_batch_normalization_1/moving_mean:0', 'efficientnet-lite0/blocks_9/tpu_batch_normalization_1/moving_variance:0', 'efficientnet-lite0/blocks_9/tpu_batch_normalization_2/moving_mean:0', 'efficientnet-lite0/blocks_9/tpu_batch_normalization_2/moving_variance:0', 'efficientnet-lite0/blocks_10/tpu_batch_normalization/moving_mean:0', 'efficientnet-lite0/blocks_10/tpu_batch_normalization/moving_variance:0', 'efficientnet-lite0/blocks_10/tpu_batch_normalization_1/moving_mean:0', 'efficientnet-lite0/blocks_10/tpu_batch_normalization_1/moving_variance:0', 'efficientnet-lite0/blocks_10/tpu_batch_normalization_2/moving_mean:0', 'efficientnet-lite0/blocks_10/tpu_batch_normalization_2/moving_variance:0', 'efficientnet-lite0/blocks_11/tpu_batch_normalization/moving_mean:0', 'efficientnet-lite0/blocks_11/tpu_batch_normalization/moving_variance:0', 'efficientnet-lite0/blocks_11/tpu_batch_normalization_1/moving_mean:0', 'efficientnet-lite0/blocks_11/tpu_batch_normalization_1/moving_variance:0', 'efficientnet-lite0/blocks_11/tpu_batch_normalization_2/moving_mean:0', 'efficientnet-lite0/blocks_11/tpu_batch_normalization_2/moving_variance:0', 'efficientnet-lite0/blocks_12/tpu_batch_normalization/moving_mean:0', 'efficientnet-lite0/blocks_12/tpu_batch_normalization/moving_variance:0', 'efficientnet-lite0/blocks_12/tpu_batch_normalization_1/moving_mean:0', 'efficientnet-lite0/blocks_12/tpu_batch_normalization_1/moving_variance:0', 'efficientnet-lite0/blocks_12/tpu_batch_normalization_2/moving_mean:0', 'efficientnet-lite0/blocks_12/tpu_batch_normalization_2/moving_variance:0', 'efficientnet-lite0/blocks_13/tpu_batch_normalization/moving_mean:0', 'efficientnet-lite0/blocks_13/tpu_batch_normalization/moving_variance:0', 'efficientnet-lite0/blocks_13/tpu_batch_normalization_1/moving_mean:0', 'efficientnet-lite0/blocks_13/tpu_batch_normalization_1/moving_variance:0', 'efficientnet-lite0/blocks_13/tpu_batch_normalization_2/moving_mean:0', 'efficientnet-lite0/blocks_13/tpu_batch_normalization_2/moving_variance:0', 'efficientnet-lite0/blocks_14/tpu_batch_normalization/moving_mean:0', 'efficientnet-lite0/blocks_14/tpu_batch_normalization/moving_variance:0', 'efficientnet-lite0/blocks_14/tpu_batch_normalization_1/moving_mean:0', 'efficientnet-lite0/blocks_14/tpu_batch_normalization_1/moving_variance:0', 'efficientnet-lite0/blocks_14/tpu_batch_normalization_2/moving_mean:0', 'efficientnet-lite0/blocks_14/tpu_batch_normalization_2/moving_variance:0', 'efficientnet-lite0/blocks_15/tpu_batch_normalization/moving_mean:0', 'efficientnet-lite0/blocks_15/tpu_batch_normalization/moving_variance:0', 'efficientnet-lite0/blocks_15/tpu_batch_normalization_1/moving_mean:0', 'efficientnet-lite0/blocks_15/tpu_batch_normalization_1/moving_variance:0', 'efficientnet-lite0/blocks_15/tpu_batch_normalization_2/moving_mean:0', 'efficientnet-lite0/blocks_15/tpu_batch_normalization_2/moving_variance:0', 'efficientnet-lite0/head/tpu_batch_normalization/moving_mean:0', 'efficientnet-lite0/head/tpu_batch_normalization/moving_variance:0'] when minimizing the loss. If you're using `model.compile()`, did you forget to provide a `loss`argument?\n"
          ]
        },
        {
          "output_type": "stream",
          "name": "stderr",
          "text": [
            "WARNING:tensorflow:Gradients do not exist for variables ['efficientnet-lite0/stem/tpu_batch_normalization/moving_mean:0', 'efficientnet-lite0/stem/tpu_batch_normalization/moving_variance:0', 'efficientnet-lite0/blocks_0/tpu_batch_normalization/moving_mean:0', 'efficientnet-lite0/blocks_0/tpu_batch_normalization/moving_variance:0', 'efficientnet-lite0/blocks_0/tpu_batch_normalization_1/moving_mean:0', 'efficientnet-lite0/blocks_0/tpu_batch_normalization_1/moving_variance:0', 'efficientnet-lite0/blocks_1/tpu_batch_normalization/moving_mean:0', 'efficientnet-lite0/blocks_1/tpu_batch_normalization/moving_variance:0', 'efficientnet-lite0/blocks_1/tpu_batch_normalization_1/moving_mean:0', 'efficientnet-lite0/blocks_1/tpu_batch_normalization_1/moving_variance:0', 'efficientnet-lite0/blocks_1/tpu_batch_normalization_2/moving_mean:0', 'efficientnet-lite0/blocks_1/tpu_batch_normalization_2/moving_variance:0', 'efficientnet-lite0/blocks_2/tpu_batch_normalization/moving_mean:0', 'efficientnet-lite0/blocks_2/tpu_batch_normalization/moving_variance:0', 'efficientnet-lite0/blocks_2/tpu_batch_normalization_1/moving_mean:0', 'efficientnet-lite0/blocks_2/tpu_batch_normalization_1/moving_variance:0', 'efficientnet-lite0/blocks_2/tpu_batch_normalization_2/moving_mean:0', 'efficientnet-lite0/blocks_2/tpu_batch_normalization_2/moving_variance:0', 'efficientnet-lite0/blocks_3/tpu_batch_normalization/moving_mean:0', 'efficientnet-lite0/blocks_3/tpu_batch_normalization/moving_variance:0', 'efficientnet-lite0/blocks_3/tpu_batch_normalization_1/moving_mean:0', 'efficientnet-lite0/blocks_3/tpu_batch_normalization_1/moving_variance:0', 'efficientnet-lite0/blocks_3/tpu_batch_normalization_2/moving_mean:0', 'efficientnet-lite0/blocks_3/tpu_batch_normalization_2/moving_variance:0', 'efficientnet-lite0/blocks_4/tpu_batch_normalization/moving_mean:0', 'efficientnet-lite0/blocks_4/tpu_batch_normalization/moving_variance:0', 'efficientnet-lite0/blocks_4/tpu_batch_normalization_1/moving_mean:0', 'efficientnet-lite0/blocks_4/tpu_batch_normalization_1/moving_variance:0', 'efficientnet-lite0/blocks_4/tpu_batch_normalization_2/moving_mean:0', 'efficientnet-lite0/blocks_4/tpu_batch_normalization_2/moving_variance:0', 'efficientnet-lite0/blocks_5/tpu_batch_normalization/moving_mean:0', 'efficientnet-lite0/blocks_5/tpu_batch_normalization/moving_variance:0', 'efficientnet-lite0/blocks_5/tpu_batch_normalization_1/moving_mean:0', 'efficientnet-lite0/blocks_5/tpu_batch_normalization_1/moving_variance:0', 'efficientnet-lite0/blocks_5/tpu_batch_normalization_2/moving_mean:0', 'efficientnet-lite0/blocks_5/tpu_batch_normalization_2/moving_variance:0', 'efficientnet-lite0/blocks_6/tpu_batch_normalization/moving_mean:0', 'efficientnet-lite0/blocks_6/tpu_batch_normalization/moving_variance:0', 'efficientnet-lite0/blocks_6/tpu_batch_normalization_1/moving_mean:0', 'efficientnet-lite0/blocks_6/tpu_batch_normalization_1/moving_variance:0', 'efficientnet-lite0/blocks_6/tpu_batch_normalization_2/moving_mean:0', 'efficientnet-lite0/blocks_6/tpu_batch_normalization_2/moving_variance:0', 'efficientnet-lite0/blocks_7/tpu_batch_normalization/moving_mean:0', 'efficientnet-lite0/blocks_7/tpu_batch_normalization/moving_variance:0', 'efficientnet-lite0/blocks_7/tpu_batch_normalization_1/moving_mean:0', 'efficientnet-lite0/blocks_7/tpu_batch_normalization_1/moving_variance:0', 'efficientnet-lite0/blocks_7/tpu_batch_normalization_2/moving_mean:0', 'efficientnet-lite0/blocks_7/tpu_batch_normalization_2/moving_variance:0', 'efficientnet-lite0/blocks_8/tpu_batch_normalization/moving_mean:0', 'efficientnet-lite0/blocks_8/tpu_batch_normalization/moving_variance:0', 'efficientnet-lite0/blocks_8/tpu_batch_normalization_1/moving_mean:0', 'efficientnet-lite0/blocks_8/tpu_batch_normalization_1/moving_variance:0', 'efficientnet-lite0/blocks_8/tpu_batch_normalization_2/moving_mean:0', 'efficientnet-lite0/blocks_8/tpu_batch_normalization_2/moving_variance:0', 'efficientnet-lite0/blocks_9/tpu_batch_normalization/moving_mean:0', 'efficientnet-lite0/blocks_9/tpu_batch_normalization/moving_variance:0', 'efficientnet-lite0/blocks_9/tpu_batch_normalization_1/moving_mean:0', 'efficientnet-lite0/blocks_9/tpu_batch_normalization_1/moving_variance:0', 'efficientnet-lite0/blocks_9/tpu_batch_normalization_2/moving_mean:0', 'efficientnet-lite0/blocks_9/tpu_batch_normalization_2/moving_variance:0', 'efficientnet-lite0/blocks_10/tpu_batch_normalization/moving_mean:0', 'efficientnet-lite0/blocks_10/tpu_batch_normalization/moving_variance:0', 'efficientnet-lite0/blocks_10/tpu_batch_normalization_1/moving_mean:0', 'efficientnet-lite0/blocks_10/tpu_batch_normalization_1/moving_variance:0', 'efficientnet-lite0/blocks_10/tpu_batch_normalization_2/moving_mean:0', 'efficientnet-lite0/blocks_10/tpu_batch_normalization_2/moving_variance:0', 'efficientnet-lite0/blocks_11/tpu_batch_normalization/moving_mean:0', 'efficientnet-lite0/blocks_11/tpu_batch_normalization/moving_variance:0', 'efficientnet-lite0/blocks_11/tpu_batch_normalization_1/moving_mean:0', 'efficientnet-lite0/blocks_11/tpu_batch_normalization_1/moving_variance:0', 'efficientnet-lite0/blocks_11/tpu_batch_normalization_2/moving_mean:0', 'efficientnet-lite0/blocks_11/tpu_batch_normalization_2/moving_variance:0', 'efficientnet-lite0/blocks_12/tpu_batch_normalization/moving_mean:0', 'efficientnet-lite0/blocks_12/tpu_batch_normalization/moving_variance:0', 'efficientnet-lite0/blocks_12/tpu_batch_normalization_1/moving_mean:0', 'efficientnet-lite0/blocks_12/tpu_batch_normalization_1/moving_variance:0', 'efficientnet-lite0/blocks_12/tpu_batch_normalization_2/moving_mean:0', 'efficientnet-lite0/blocks_12/tpu_batch_normalization_2/moving_variance:0', 'efficientnet-lite0/blocks_13/tpu_batch_normalization/moving_mean:0', 'efficientnet-lite0/blocks_13/tpu_batch_normalization/moving_variance:0', 'efficientnet-lite0/blocks_13/tpu_batch_normalization_1/moving_mean:0', 'efficientnet-lite0/blocks_13/tpu_batch_normalization_1/moving_variance:0', 'efficientnet-lite0/blocks_13/tpu_batch_normalization_2/moving_mean:0', 'efficientnet-lite0/blocks_13/tpu_batch_normalization_2/moving_variance:0', 'efficientnet-lite0/blocks_14/tpu_batch_normalization/moving_mean:0', 'efficientnet-lite0/blocks_14/tpu_batch_normalization/moving_variance:0', 'efficientnet-lite0/blocks_14/tpu_batch_normalization_1/moving_mean:0', 'efficientnet-lite0/blocks_14/tpu_batch_normalization_1/moving_variance:0', 'efficientnet-lite0/blocks_14/tpu_batch_normalization_2/moving_mean:0', 'efficientnet-lite0/blocks_14/tpu_batch_normalization_2/moving_variance:0', 'efficientnet-lite0/blocks_15/tpu_batch_normalization/moving_mean:0', 'efficientnet-lite0/blocks_15/tpu_batch_normalization/moving_variance:0', 'efficientnet-lite0/blocks_15/tpu_batch_normalization_1/moving_mean:0', 'efficientnet-lite0/blocks_15/tpu_batch_normalization_1/moving_variance:0', 'efficientnet-lite0/blocks_15/tpu_batch_normalization_2/moving_mean:0', 'efficientnet-lite0/blocks_15/tpu_batch_normalization_2/moving_variance:0', 'efficientnet-lite0/head/tpu_batch_normalization/moving_mean:0', 'efficientnet-lite0/head/tpu_batch_normalization/moving_variance:0'] when minimizing the loss. If you're using `model.compile()`, did you forget to provide a `loss`argument?\n"
          ]
        },
        {
          "output_type": "stream",
          "name": "stdout",
          "text": [
            "WARNING:tensorflow:Gradients do not exist for variables ['efficientnet-lite0/stem/tpu_batch_normalization/moving_mean:0', 'efficientnet-lite0/stem/tpu_batch_normalization/moving_variance:0', 'efficientnet-lite0/blocks_0/tpu_batch_normalization/moving_mean:0', 'efficientnet-lite0/blocks_0/tpu_batch_normalization/moving_variance:0', 'efficientnet-lite0/blocks_0/tpu_batch_normalization_1/moving_mean:0', 'efficientnet-lite0/blocks_0/tpu_batch_normalization_1/moving_variance:0', 'efficientnet-lite0/blocks_1/tpu_batch_normalization/moving_mean:0', 'efficientnet-lite0/blocks_1/tpu_batch_normalization/moving_variance:0', 'efficientnet-lite0/blocks_1/tpu_batch_normalization_1/moving_mean:0', 'efficientnet-lite0/blocks_1/tpu_batch_normalization_1/moving_variance:0', 'efficientnet-lite0/blocks_1/tpu_batch_normalization_2/moving_mean:0', 'efficientnet-lite0/blocks_1/tpu_batch_normalization_2/moving_variance:0', 'efficientnet-lite0/blocks_2/tpu_batch_normalization/moving_mean:0', 'efficientnet-lite0/blocks_2/tpu_batch_normalization/moving_variance:0', 'efficientnet-lite0/blocks_2/tpu_batch_normalization_1/moving_mean:0', 'efficientnet-lite0/blocks_2/tpu_batch_normalization_1/moving_variance:0', 'efficientnet-lite0/blocks_2/tpu_batch_normalization_2/moving_mean:0', 'efficientnet-lite0/blocks_2/tpu_batch_normalization_2/moving_variance:0', 'efficientnet-lite0/blocks_3/tpu_batch_normalization/moving_mean:0', 'efficientnet-lite0/blocks_3/tpu_batch_normalization/moving_variance:0', 'efficientnet-lite0/blocks_3/tpu_batch_normalization_1/moving_mean:0', 'efficientnet-lite0/blocks_3/tpu_batch_normalization_1/moving_variance:0', 'efficientnet-lite0/blocks_3/tpu_batch_normalization_2/moving_mean:0', 'efficientnet-lite0/blocks_3/tpu_batch_normalization_2/moving_variance:0', 'efficientnet-lite0/blocks_4/tpu_batch_normalization/moving_mean:0', 'efficientnet-lite0/blocks_4/tpu_batch_normalization/moving_variance:0', 'efficientnet-lite0/blocks_4/tpu_batch_normalization_1/moving_mean:0', 'efficientnet-lite0/blocks_4/tpu_batch_normalization_1/moving_variance:0', 'efficientnet-lite0/blocks_4/tpu_batch_normalization_2/moving_mean:0', 'efficientnet-lite0/blocks_4/tpu_batch_normalization_2/moving_variance:0', 'efficientnet-lite0/blocks_5/tpu_batch_normalization/moving_mean:0', 'efficientnet-lite0/blocks_5/tpu_batch_normalization/moving_variance:0', 'efficientnet-lite0/blocks_5/tpu_batch_normalization_1/moving_mean:0', 'efficientnet-lite0/blocks_5/tpu_batch_normalization_1/moving_variance:0', 'efficientnet-lite0/blocks_5/tpu_batch_normalization_2/moving_mean:0', 'efficientnet-lite0/blocks_5/tpu_batch_normalization_2/moving_variance:0', 'efficientnet-lite0/blocks_6/tpu_batch_normalization/moving_mean:0', 'efficientnet-lite0/blocks_6/tpu_batch_normalization/moving_variance:0', 'efficientnet-lite0/blocks_6/tpu_batch_normalization_1/moving_mean:0', 'efficientnet-lite0/blocks_6/tpu_batch_normalization_1/moving_variance:0', 'efficientnet-lite0/blocks_6/tpu_batch_normalization_2/moving_mean:0', 'efficientnet-lite0/blocks_6/tpu_batch_normalization_2/moving_variance:0', 'efficientnet-lite0/blocks_7/tpu_batch_normalization/moving_mean:0', 'efficientnet-lite0/blocks_7/tpu_batch_normalization/moving_variance:0', 'efficientnet-lite0/blocks_7/tpu_batch_normalization_1/moving_mean:0', 'efficientnet-lite0/blocks_7/tpu_batch_normalization_1/moving_variance:0', 'efficientnet-lite0/blocks_7/tpu_batch_normalization_2/moving_mean:0', 'efficientnet-lite0/blocks_7/tpu_batch_normalization_2/moving_variance:0', 'efficientnet-lite0/blocks_8/tpu_batch_normalization/moving_mean:0', 'efficientnet-lite0/blocks_8/tpu_batch_normalization/moving_variance:0', 'efficientnet-lite0/blocks_8/tpu_batch_normalization_1/moving_mean:0', 'efficientnet-lite0/blocks_8/tpu_batch_normalization_1/moving_variance:0', 'efficientnet-lite0/blocks_8/tpu_batch_normalization_2/moving_mean:0', 'efficientnet-lite0/blocks_8/tpu_batch_normalization_2/moving_variance:0', 'efficientnet-lite0/blocks_9/tpu_batch_normalization/moving_mean:0', 'efficientnet-lite0/blocks_9/tpu_batch_normalization/moving_variance:0', 'efficientnet-lite0/blocks_9/tpu_batch_normalization_1/moving_mean:0', 'efficientnet-lite0/blocks_9/tpu_batch_normalization_1/moving_variance:0', 'efficientnet-lite0/blocks_9/tpu_batch_normalization_2/moving_mean:0', 'efficientnet-lite0/blocks_9/tpu_batch_normalization_2/moving_variance:0', 'efficientnet-lite0/blocks_10/tpu_batch_normalization/moving_mean:0', 'efficientnet-lite0/blocks_10/tpu_batch_normalization/moving_variance:0', 'efficientnet-lite0/blocks_10/tpu_batch_normalization_1/moving_mean:0', 'efficientnet-lite0/blocks_10/tpu_batch_normalization_1/moving_variance:0', 'efficientnet-lite0/blocks_10/tpu_batch_normalization_2/moving_mean:0', 'efficientnet-lite0/blocks_10/tpu_batch_normalization_2/moving_variance:0', 'efficientnet-lite0/blocks_11/tpu_batch_normalization/moving_mean:0', 'efficientnet-lite0/blocks_11/tpu_batch_normalization/moving_variance:0', 'efficientnet-lite0/blocks_11/tpu_batch_normalization_1/moving_mean:0', 'efficientnet-lite0/blocks_11/tpu_batch_normalization_1/moving_variance:0', 'efficientnet-lite0/blocks_11/tpu_batch_normalization_2/moving_mean:0', 'efficientnet-lite0/blocks_11/tpu_batch_normalization_2/moving_variance:0', 'efficientnet-lite0/blocks_12/tpu_batch_normalization/moving_mean:0', 'efficientnet-lite0/blocks_12/tpu_batch_normalization/moving_variance:0', 'efficientnet-lite0/blocks_12/tpu_batch_normalization_1/moving_mean:0', 'efficientnet-lite0/blocks_12/tpu_batch_normalization_1/moving_variance:0', 'efficientnet-lite0/blocks_12/tpu_batch_normalization_2/moving_mean:0', 'efficientnet-lite0/blocks_12/tpu_batch_normalization_2/moving_variance:0', 'efficientnet-lite0/blocks_13/tpu_batch_normalization/moving_mean:0', 'efficientnet-lite0/blocks_13/tpu_batch_normalization/moving_variance:0', 'efficientnet-lite0/blocks_13/tpu_batch_normalization_1/moving_mean:0', 'efficientnet-lite0/blocks_13/tpu_batch_normalization_1/moving_variance:0', 'efficientnet-lite0/blocks_13/tpu_batch_normalization_2/moving_mean:0', 'efficientnet-lite0/blocks_13/tpu_batch_normalization_2/moving_variance:0', 'efficientnet-lite0/blocks_14/tpu_batch_normalization/moving_mean:0', 'efficientnet-lite0/blocks_14/tpu_batch_normalization/moving_variance:0', 'efficientnet-lite0/blocks_14/tpu_batch_normalization_1/moving_mean:0', 'efficientnet-lite0/blocks_14/tpu_batch_normalization_1/moving_variance:0', 'efficientnet-lite0/blocks_14/tpu_batch_normalization_2/moving_mean:0', 'efficientnet-lite0/blocks_14/tpu_batch_normalization_2/moving_variance:0', 'efficientnet-lite0/blocks_15/tpu_batch_normalization/moving_mean:0', 'efficientnet-lite0/blocks_15/tpu_batch_normalization/moving_variance:0', 'efficientnet-lite0/blocks_15/tpu_batch_normalization_1/moving_mean:0', 'efficientnet-lite0/blocks_15/tpu_batch_normalization_1/moving_variance:0', 'efficientnet-lite0/blocks_15/tpu_batch_normalization_2/moving_mean:0', 'efficientnet-lite0/blocks_15/tpu_batch_normalization_2/moving_variance:0', 'efficientnet-lite0/head/tpu_batch_normalization/moving_mean:0', 'efficientnet-lite0/head/tpu_batch_normalization/moving_variance:0'] when minimizing the loss. If you're using `model.compile()`, did you forget to provide a `loss`argument?\n"
          ]
        },
        {
          "output_type": "stream",
          "name": "stderr",
          "text": [
            "WARNING:tensorflow:Gradients do not exist for variables ['efficientnet-lite0/stem/tpu_batch_normalization/moving_mean:0', 'efficientnet-lite0/stem/tpu_batch_normalization/moving_variance:0', 'efficientnet-lite0/blocks_0/tpu_batch_normalization/moving_mean:0', 'efficientnet-lite0/blocks_0/tpu_batch_normalization/moving_variance:0', 'efficientnet-lite0/blocks_0/tpu_batch_normalization_1/moving_mean:0', 'efficientnet-lite0/blocks_0/tpu_batch_normalization_1/moving_variance:0', 'efficientnet-lite0/blocks_1/tpu_batch_normalization/moving_mean:0', 'efficientnet-lite0/blocks_1/tpu_batch_normalization/moving_variance:0', 'efficientnet-lite0/blocks_1/tpu_batch_normalization_1/moving_mean:0', 'efficientnet-lite0/blocks_1/tpu_batch_normalization_1/moving_variance:0', 'efficientnet-lite0/blocks_1/tpu_batch_normalization_2/moving_mean:0', 'efficientnet-lite0/blocks_1/tpu_batch_normalization_2/moving_variance:0', 'efficientnet-lite0/blocks_2/tpu_batch_normalization/moving_mean:0', 'efficientnet-lite0/blocks_2/tpu_batch_normalization/moving_variance:0', 'efficientnet-lite0/blocks_2/tpu_batch_normalization_1/moving_mean:0', 'efficientnet-lite0/blocks_2/tpu_batch_normalization_1/moving_variance:0', 'efficientnet-lite0/blocks_2/tpu_batch_normalization_2/moving_mean:0', 'efficientnet-lite0/blocks_2/tpu_batch_normalization_2/moving_variance:0', 'efficientnet-lite0/blocks_3/tpu_batch_normalization/moving_mean:0', 'efficientnet-lite0/blocks_3/tpu_batch_normalization/moving_variance:0', 'efficientnet-lite0/blocks_3/tpu_batch_normalization_1/moving_mean:0', 'efficientnet-lite0/blocks_3/tpu_batch_normalization_1/moving_variance:0', 'efficientnet-lite0/blocks_3/tpu_batch_normalization_2/moving_mean:0', 'efficientnet-lite0/blocks_3/tpu_batch_normalization_2/moving_variance:0', 'efficientnet-lite0/blocks_4/tpu_batch_normalization/moving_mean:0', 'efficientnet-lite0/blocks_4/tpu_batch_normalization/moving_variance:0', 'efficientnet-lite0/blocks_4/tpu_batch_normalization_1/moving_mean:0', 'efficientnet-lite0/blocks_4/tpu_batch_normalization_1/moving_variance:0', 'efficientnet-lite0/blocks_4/tpu_batch_normalization_2/moving_mean:0', 'efficientnet-lite0/blocks_4/tpu_batch_normalization_2/moving_variance:0', 'efficientnet-lite0/blocks_5/tpu_batch_normalization/moving_mean:0', 'efficientnet-lite0/blocks_5/tpu_batch_normalization/moving_variance:0', 'efficientnet-lite0/blocks_5/tpu_batch_normalization_1/moving_mean:0', 'efficientnet-lite0/blocks_5/tpu_batch_normalization_1/moving_variance:0', 'efficientnet-lite0/blocks_5/tpu_batch_normalization_2/moving_mean:0', 'efficientnet-lite0/blocks_5/tpu_batch_normalization_2/moving_variance:0', 'efficientnet-lite0/blocks_6/tpu_batch_normalization/moving_mean:0', 'efficientnet-lite0/blocks_6/tpu_batch_normalization/moving_variance:0', 'efficientnet-lite0/blocks_6/tpu_batch_normalization_1/moving_mean:0', 'efficientnet-lite0/blocks_6/tpu_batch_normalization_1/moving_variance:0', 'efficientnet-lite0/blocks_6/tpu_batch_normalization_2/moving_mean:0', 'efficientnet-lite0/blocks_6/tpu_batch_normalization_2/moving_variance:0', 'efficientnet-lite0/blocks_7/tpu_batch_normalization/moving_mean:0', 'efficientnet-lite0/blocks_7/tpu_batch_normalization/moving_variance:0', 'efficientnet-lite0/blocks_7/tpu_batch_normalization_1/moving_mean:0', 'efficientnet-lite0/blocks_7/tpu_batch_normalization_1/moving_variance:0', 'efficientnet-lite0/blocks_7/tpu_batch_normalization_2/moving_mean:0', 'efficientnet-lite0/blocks_7/tpu_batch_normalization_2/moving_variance:0', 'efficientnet-lite0/blocks_8/tpu_batch_normalization/moving_mean:0', 'efficientnet-lite0/blocks_8/tpu_batch_normalization/moving_variance:0', 'efficientnet-lite0/blocks_8/tpu_batch_normalization_1/moving_mean:0', 'efficientnet-lite0/blocks_8/tpu_batch_normalization_1/moving_variance:0', 'efficientnet-lite0/blocks_8/tpu_batch_normalization_2/moving_mean:0', 'efficientnet-lite0/blocks_8/tpu_batch_normalization_2/moving_variance:0', 'efficientnet-lite0/blocks_9/tpu_batch_normalization/moving_mean:0', 'efficientnet-lite0/blocks_9/tpu_batch_normalization/moving_variance:0', 'efficientnet-lite0/blocks_9/tpu_batch_normalization_1/moving_mean:0', 'efficientnet-lite0/blocks_9/tpu_batch_normalization_1/moving_variance:0', 'efficientnet-lite0/blocks_9/tpu_batch_normalization_2/moving_mean:0', 'efficientnet-lite0/blocks_9/tpu_batch_normalization_2/moving_variance:0', 'efficientnet-lite0/blocks_10/tpu_batch_normalization/moving_mean:0', 'efficientnet-lite0/blocks_10/tpu_batch_normalization/moving_variance:0', 'efficientnet-lite0/blocks_10/tpu_batch_normalization_1/moving_mean:0', 'efficientnet-lite0/blocks_10/tpu_batch_normalization_1/moving_variance:0', 'efficientnet-lite0/blocks_10/tpu_batch_normalization_2/moving_mean:0', 'efficientnet-lite0/blocks_10/tpu_batch_normalization_2/moving_variance:0', 'efficientnet-lite0/blocks_11/tpu_batch_normalization/moving_mean:0', 'efficientnet-lite0/blocks_11/tpu_batch_normalization/moving_variance:0', 'efficientnet-lite0/blocks_11/tpu_batch_normalization_1/moving_mean:0', 'efficientnet-lite0/blocks_11/tpu_batch_normalization_1/moving_variance:0', 'efficientnet-lite0/blocks_11/tpu_batch_normalization_2/moving_mean:0', 'efficientnet-lite0/blocks_11/tpu_batch_normalization_2/moving_variance:0', 'efficientnet-lite0/blocks_12/tpu_batch_normalization/moving_mean:0', 'efficientnet-lite0/blocks_12/tpu_batch_normalization/moving_variance:0', 'efficientnet-lite0/blocks_12/tpu_batch_normalization_1/moving_mean:0', 'efficientnet-lite0/blocks_12/tpu_batch_normalization_1/moving_variance:0', 'efficientnet-lite0/blocks_12/tpu_batch_normalization_2/moving_mean:0', 'efficientnet-lite0/blocks_12/tpu_batch_normalization_2/moving_variance:0', 'efficientnet-lite0/blocks_13/tpu_batch_normalization/moving_mean:0', 'efficientnet-lite0/blocks_13/tpu_batch_normalization/moving_variance:0', 'efficientnet-lite0/blocks_13/tpu_batch_normalization_1/moving_mean:0', 'efficientnet-lite0/blocks_13/tpu_batch_normalization_1/moving_variance:0', 'efficientnet-lite0/blocks_13/tpu_batch_normalization_2/moving_mean:0', 'efficientnet-lite0/blocks_13/tpu_batch_normalization_2/moving_variance:0', 'efficientnet-lite0/blocks_14/tpu_batch_normalization/moving_mean:0', 'efficientnet-lite0/blocks_14/tpu_batch_normalization/moving_variance:0', 'efficientnet-lite0/blocks_14/tpu_batch_normalization_1/moving_mean:0', 'efficientnet-lite0/blocks_14/tpu_batch_normalization_1/moving_variance:0', 'efficientnet-lite0/blocks_14/tpu_batch_normalization_2/moving_mean:0', 'efficientnet-lite0/blocks_14/tpu_batch_normalization_2/moving_variance:0', 'efficientnet-lite0/blocks_15/tpu_batch_normalization/moving_mean:0', 'efficientnet-lite0/blocks_15/tpu_batch_normalization/moving_variance:0', 'efficientnet-lite0/blocks_15/tpu_batch_normalization_1/moving_mean:0', 'efficientnet-lite0/blocks_15/tpu_batch_normalization_1/moving_variance:0', 'efficientnet-lite0/blocks_15/tpu_batch_normalization_2/moving_mean:0', 'efficientnet-lite0/blocks_15/tpu_batch_normalization_2/moving_variance:0', 'efficientnet-lite0/head/tpu_batch_normalization/moving_mean:0', 'efficientnet-lite0/head/tpu_batch_normalization/moving_variance:0'] when minimizing the loss. If you're using `model.compile()`, did you forget to provide a `loss`argument?\n"
          ]
        },
        {
          "output_type": "stream",
          "name": "stdout",
          "text": [
            "97/97 [==============================] - 78s 772ms/step - loss: 1.9495 - accuracy: 0.3557 - val_loss: 1.2982 - val_accuracy: 0.7187\n",
            "Epoch 2/15\n",
            "97/97 [==============================] - 88s 915ms/step - loss: 1.2979 - accuracy: 0.6746 - val_loss: 0.9927 - val_accuracy: 0.8159\n",
            "Epoch 3/15\n",
            "97/97 [==============================] - 68s 704ms/step - loss: 1.0882 - accuracy: 0.7761 - val_loss: 0.8624 - val_accuracy: 0.8683\n",
            "Epoch 4/15\n",
            "97/97 [==============================] - 88s 913ms/step - loss: 0.9860 - accuracy: 0.8283 - val_loss: 0.8361 - val_accuracy: 0.8772\n",
            "Epoch 5/15\n",
            "97/97 [==============================] - 71s 736ms/step - loss: 0.8920 - accuracy: 0.8776 - val_loss: 0.8341 - val_accuracy: 0.8760\n",
            "Epoch 6/15\n",
            "97/97 [==============================] - 88s 911ms/step - loss: 0.8546 - accuracy: 0.8914 - val_loss: 0.8259 - val_accuracy: 0.8836\n",
            "Epoch 7/15\n",
            "97/97 [==============================] - 88s 913ms/step - loss: 0.8298 - accuracy: 0.8947 - val_loss: 0.8165 - val_accuracy: 0.8875\n",
            "Epoch 8/15\n",
            "97/97 [==============================] - 88s 913ms/step - loss: 0.7850 - accuracy: 0.9207 - val_loss: 0.7801 - val_accuracy: 0.9054\n",
            "Epoch 9/15\n",
            "97/97 [==============================] - 88s 911ms/step - loss: 0.7547 - accuracy: 0.9362 - val_loss: 0.7623 - val_accuracy: 0.9105\n",
            "Epoch 10/15\n",
            "97/97 [==============================] - 71s 732ms/step - loss: 0.7580 - accuracy: 0.9311 - val_loss: 0.8061 - val_accuracy: 0.8887\n",
            "Epoch 11/15\n",
            "97/97 [==============================] - 90s 927ms/step - loss: 0.7350 - accuracy: 0.9385 - val_loss: 0.7402 - val_accuracy: 0.9105\n",
            "Epoch 12/15\n",
            "97/97 [==============================] - 89s 917ms/step - loss: 0.7043 - accuracy: 0.9568 - val_loss: 0.7419 - val_accuracy: 0.9220\n",
            "Epoch 13/15\n",
            "97/97 [==============================] - 73s 756ms/step - loss: 0.7017 - accuracy: 0.9546 - val_loss: 0.7380 - val_accuracy: 0.9143\n",
            "Epoch 14/15\n",
            "97/97 [==============================] - 90s 928ms/step - loss: 0.6834 - accuracy: 0.9626 - val_loss: 0.7141 - val_accuracy: 0.9271\n",
            "Epoch 15/15\n",
            "97/97 [==============================] - 73s 750ms/step - loss: 0.6694 - accuracy: 0.9736 - val_loss: 0.7189 - val_accuracy: 0.9246\n"
          ]
        }
      ]
    },
    {
      "cell_type": "code",
      "source": [
        "config = QuantizationConfig.for_dynamic()\n",
        "model1.export(export_dir='.', tflite_filename='foodictive_dynamic_quantize.tflite', quantization_config=config)\n",
        "model1.export(export_dir='.', export_format=ExportFormat.LABEL)"
      ],
      "metadata": {
        "colab": {
          "base_uri": "https://localhost:8080/"
        },
        "id": "cRrpKVU1zdOB",
        "outputId": "1a46d66e-5fa7-4b34-a9a2-ea16be59a86d"
      },
      "execution_count": null,
      "outputs": [
        {
          "output_type": "stream",
          "name": "stdout",
          "text": [
            "INFO:tensorflow:Assets written to: /tmp/tmp0ry5mdzy/assets\n"
          ]
        },
        {
          "output_type": "stream",
          "name": "stderr",
          "text": [
            "INFO:tensorflow:Assets written to: /tmp/tmp0ry5mdzy/assets\n"
          ]
        },
        {
          "output_type": "stream",
          "name": "stdout",
          "text": [
            "INFO:tensorflow:Label file is inside the TFLite model with metadata.\n"
          ]
        },
        {
          "output_type": "stream",
          "name": "stderr",
          "text": [
            "INFO:tensorflow:Label file is inside the TFLite model with metadata.\n"
          ]
        },
        {
          "output_type": "stream",
          "name": "stdout",
          "text": [
            "INFO:tensorflow:Saving labels in /tmp/tmp117nppaf/labels.txt\n"
          ]
        },
        {
          "output_type": "stream",
          "name": "stderr",
          "text": [
            "INFO:tensorflow:Saving labels in /tmp/tmp117nppaf/labels.txt\n"
          ]
        },
        {
          "output_type": "stream",
          "name": "stdout",
          "text": [
            "INFO:tensorflow:TensorFlow Lite model exported successfully: ./foodictive_dynamic_quantize.tflite\n"
          ]
        },
        {
          "output_type": "stream",
          "name": "stderr",
          "text": [
            "INFO:tensorflow:TensorFlow Lite model exported successfully: ./foodictive_dynamic_quantize.tflite\n"
          ]
        },
        {
          "output_type": "stream",
          "name": "stdout",
          "text": [
            "INFO:tensorflow:Saving labels in ./labels.txt\n"
          ]
        },
        {
          "output_type": "stream",
          "name": "stderr",
          "text": [
            "INFO:tensorflow:Saving labels in ./labels.txt\n"
          ]
        }
      ]
    }
  ]
}